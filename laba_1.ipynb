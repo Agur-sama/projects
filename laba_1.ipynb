{
 "cells": [
  {
   "cell_type": "code",
   "execution_count": 146,
   "metadata": {},
   "outputs": [],
   "source": [
    "import pandas as pd\n",
    "import numpy as np\n",
    "import matplotlib.pyplot as plt\n",
    "import seaborn as sns\n",
    "from scipy import stats\n",
    "import statsmodels.api as sm\n",
    "from statsmodels.formula.api import ols\n",
    "import plotly.express as px\n",
    "import plotly.io as pio\n",
    "from scipy.stats import ttest_ind\n",
    "from statsmodels.stats.weightstats import ztest\n",
    "from scipy.stats import f_oneway\n",
    "from sklearn.linear_model import LinearRegression\n",
    "from sklearn.metrics import r2_score, mean_absolute_error, mean_squared_error\n"
   ]
  },
  {
   "cell_type": "code",
   "execution_count": 147,
   "metadata": {},
   "outputs": [
    {
     "name": "stdout",
     "output_type": "stream",
     "text": [
      "Requirement already satisfied: scikit-learn in /Users/maksim/PycharmProjects/pythonProject4/.venv/lib/python3.12/site-packages (1.6.1)\n",
      "Requirement already satisfied: numpy>=1.19.5 in /Users/maksim/PycharmProjects/pythonProject4/.venv/lib/python3.12/site-packages (from scikit-learn) (2.1.2)\n",
      "Requirement already satisfied: scipy>=1.6.0 in /Users/maksim/PycharmProjects/pythonProject4/.venv/lib/python3.12/site-packages (from scikit-learn) (1.15.2)\n",
      "Requirement already satisfied: joblib>=1.2.0 in /Users/maksim/PycharmProjects/pythonProject4/.venv/lib/python3.12/site-packages (from scikit-learn) (1.4.2)\n",
      "Requirement already satisfied: threadpoolctl>=3.1.0 in /Users/maksim/PycharmProjects/pythonProject4/.venv/lib/python3.12/site-packages (from scikit-learn) (3.6.0)\n"
     ]
    }
   ],
   "source": [
    "!pip install scikit-learn\n",
    "\n"
   ]
  },
  {
   "cell_type": "code",
   "execution_count": 148,
   "metadata": {},
   "outputs": [
    {
     "data": {
      "text/html": [
       "<div>\n",
       "<style scoped>\n",
       "    .dataframe tbody tr th:only-of-type {\n",
       "        vertical-align: middle;\n",
       "    }\n",
       "\n",
       "    .dataframe tbody tr th {\n",
       "        vertical-align: top;\n",
       "    }\n",
       "\n",
       "    .dataframe thead th {\n",
       "        text-align: right;\n",
       "    }\n",
       "</style>\n",
       "<table border=\"1\" class=\"dataframe\">\n",
       "  <thead>\n",
       "    <tr style=\"text-align: right;\">\n",
       "      <th></th>\n",
       "      <th>Region</th>\n",
       "      <th>Country</th>\n",
       "      <th>Item Type</th>\n",
       "      <th>Sales Channel</th>\n",
       "      <th>Order Priority</th>\n",
       "      <th>Order Date</th>\n",
       "      <th>Order ID</th>\n",
       "      <th>Ship Date</th>\n",
       "      <th>Units Sold</th>\n",
       "      <th>Unit Price</th>\n",
       "      <th>Unit Cost</th>\n",
       "      <th>Total Revenue</th>\n",
       "      <th>Total Cost</th>\n",
       "      <th>Total Profit</th>\n",
       "    </tr>\n",
       "  </thead>\n",
       "  <tbody>\n",
       "    <tr>\n",
       "      <th>0</th>\n",
       "      <td>Sub-Saharan Africa</td>\n",
       "      <td>Chad</td>\n",
       "      <td>Office Supplies</td>\n",
       "      <td>Online</td>\n",
       "      <td>L</td>\n",
       "      <td>1/27/2011</td>\n",
       "      <td>292494523</td>\n",
       "      <td>2/12/2011</td>\n",
       "      <td>4484</td>\n",
       "      <td>651.21</td>\n",
       "      <td>524.96</td>\n",
       "      <td>2920025.64</td>\n",
       "      <td>2353920.64</td>\n",
       "      <td>566105.00</td>\n",
       "    </tr>\n",
       "    <tr>\n",
       "      <th>1</th>\n",
       "      <td>Europe</td>\n",
       "      <td>Latvia</td>\n",
       "      <td>Beverages</td>\n",
       "      <td>Online</td>\n",
       "      <td>C</td>\n",
       "      <td>12/28/2015</td>\n",
       "      <td>361825549</td>\n",
       "      <td>1/23/2016</td>\n",
       "      <td>1075</td>\n",
       "      <td>47.45</td>\n",
       "      <td>31.79</td>\n",
       "      <td>51008.75</td>\n",
       "      <td>34174.25</td>\n",
       "      <td>16834.50</td>\n",
       "    </tr>\n",
       "    <tr>\n",
       "      <th>2</th>\n",
       "      <td>Middle East and North Africa</td>\n",
       "      <td>Pakistan</td>\n",
       "      <td>Vegetables</td>\n",
       "      <td>Offline</td>\n",
       "      <td>C</td>\n",
       "      <td>1/13/2011</td>\n",
       "      <td>141515767</td>\n",
       "      <td>2/1/2011</td>\n",
       "      <td>6515</td>\n",
       "      <td>154.06</td>\n",
       "      <td>90.93</td>\n",
       "      <td>1003700.90</td>\n",
       "      <td>592408.95</td>\n",
       "      <td>411291.95</td>\n",
       "    </tr>\n",
       "    <tr>\n",
       "      <th>3</th>\n",
       "      <td>Sub-Saharan Africa</td>\n",
       "      <td>Democratic Republic of the Congo</td>\n",
       "      <td>Household</td>\n",
       "      <td>Online</td>\n",
       "      <td>C</td>\n",
       "      <td>9/11/2012</td>\n",
       "      <td>500364005</td>\n",
       "      <td>10/6/2012</td>\n",
       "      <td>7683</td>\n",
       "      <td>668.27</td>\n",
       "      <td>502.54</td>\n",
       "      <td>5134318.41</td>\n",
       "      <td>3861014.82</td>\n",
       "      <td>1273303.59</td>\n",
       "    </tr>\n",
       "    <tr>\n",
       "      <th>4</th>\n",
       "      <td>Europe</td>\n",
       "      <td>Czech Republic</td>\n",
       "      <td>Beverages</td>\n",
       "      <td>Online</td>\n",
       "      <td>C</td>\n",
       "      <td>10/27/2015</td>\n",
       "      <td>127481591</td>\n",
       "      <td>12/5/2015</td>\n",
       "      <td>3491</td>\n",
       "      <td>47.45</td>\n",
       "      <td>31.79</td>\n",
       "      <td>165647.95</td>\n",
       "      <td>110978.89</td>\n",
       "      <td>54669.06</td>\n",
       "    </tr>\n",
       "    <tr>\n",
       "      <th>5</th>\n",
       "      <td>Sub-Saharan Africa</td>\n",
       "      <td>South Africa</td>\n",
       "      <td>Beverages</td>\n",
       "      <td>Offline</td>\n",
       "      <td>H</td>\n",
       "      <td>7/10/2012</td>\n",
       "      <td>482292354</td>\n",
       "      <td>8/21/2012</td>\n",
       "      <td>9880</td>\n",
       "      <td>47.45</td>\n",
       "      <td>31.79</td>\n",
       "      <td>468806.00</td>\n",
       "      <td>314085.20</td>\n",
       "      <td>154720.80</td>\n",
       "    </tr>\n",
       "    <tr>\n",
       "      <th>6</th>\n",
       "      <td>Asia</td>\n",
       "      <td>Laos</td>\n",
       "      <td>Vegetables</td>\n",
       "      <td>Online</td>\n",
       "      <td>L</td>\n",
       "      <td>2/20/2011</td>\n",
       "      <td>844532620</td>\n",
       "      <td>3/20/2011</td>\n",
       "      <td>4825</td>\n",
       "      <td>154.06</td>\n",
       "      <td>90.93</td>\n",
       "      <td>743339.50</td>\n",
       "      <td>438737.25</td>\n",
       "      <td>304602.25</td>\n",
       "    </tr>\n",
       "    <tr>\n",
       "      <th>7</th>\n",
       "      <td>Asia</td>\n",
       "      <td>China</td>\n",
       "      <td>Baby Food</td>\n",
       "      <td>Online</td>\n",
       "      <td>C</td>\n",
       "      <td>4/10/2017</td>\n",
       "      <td>564251220</td>\n",
       "      <td>5/12/2017</td>\n",
       "      <td>3330</td>\n",
       "      <td>255.28</td>\n",
       "      <td>159.42</td>\n",
       "      <td>850082.40</td>\n",
       "      <td>530868.60</td>\n",
       "      <td>319213.80</td>\n",
       "    </tr>\n",
       "    <tr>\n",
       "      <th>8</th>\n",
       "      <td>Sub-Saharan Africa</td>\n",
       "      <td>Eritrea</td>\n",
       "      <td>Meat</td>\n",
       "      <td>Online</td>\n",
       "      <td>L</td>\n",
       "      <td>11/21/2014</td>\n",
       "      <td>411809480</td>\n",
       "      <td>1/10/2015</td>\n",
       "      <td>2431</td>\n",
       "      <td>421.89</td>\n",
       "      <td>364.69</td>\n",
       "      <td>1025614.59</td>\n",
       "      <td>886561.39</td>\n",
       "      <td>139053.20</td>\n",
       "    </tr>\n",
       "    <tr>\n",
       "      <th>9</th>\n",
       "      <td>Central America and the Caribbean</td>\n",
       "      <td>Haiti</td>\n",
       "      <td>Office Supplies</td>\n",
       "      <td>Online</td>\n",
       "      <td>C</td>\n",
       "      <td>7/4/2015</td>\n",
       "      <td>327881228</td>\n",
       "      <td>7/20/2015</td>\n",
       "      <td>6197</td>\n",
       "      <td>651.21</td>\n",
       "      <td>524.96</td>\n",
       "      <td>4035548.37</td>\n",
       "      <td>3253177.12</td>\n",
       "      <td>782371.25</td>\n",
       "    </tr>\n",
       "  </tbody>\n",
       "</table>\n",
       "</div>"
      ],
      "text/plain": [
       "                              Region                           Country  \\\n",
       "0                 Sub-Saharan Africa                              Chad   \n",
       "1                             Europe                            Latvia   \n",
       "2       Middle East and North Africa                          Pakistan   \n",
       "3                 Sub-Saharan Africa  Democratic Republic of the Congo   \n",
       "4                             Europe                    Czech Republic   \n",
       "5                 Sub-Saharan Africa                      South Africa   \n",
       "6                               Asia                              Laos   \n",
       "7                               Asia                             China   \n",
       "8                 Sub-Saharan Africa                           Eritrea   \n",
       "9  Central America and the Caribbean                             Haiti   \n",
       "\n",
       "         Item Type Sales Channel Order Priority  Order Date   Order ID  \\\n",
       "0  Office Supplies        Online              L   1/27/2011  292494523   \n",
       "1        Beverages        Online              C  12/28/2015  361825549   \n",
       "2       Vegetables       Offline              C   1/13/2011  141515767   \n",
       "3        Household        Online              C   9/11/2012  500364005   \n",
       "4        Beverages        Online              C  10/27/2015  127481591   \n",
       "5        Beverages       Offline              H   7/10/2012  482292354   \n",
       "6       Vegetables        Online              L   2/20/2011  844532620   \n",
       "7        Baby Food        Online              C   4/10/2017  564251220   \n",
       "8             Meat        Online              L  11/21/2014  411809480   \n",
       "9  Office Supplies        Online              C    7/4/2015  327881228   \n",
       "\n",
       "   Ship Date  Units Sold  Unit Price  Unit Cost  Total Revenue  Total Cost  \\\n",
       "0  2/12/2011        4484      651.21     524.96     2920025.64  2353920.64   \n",
       "1  1/23/2016        1075       47.45      31.79       51008.75    34174.25   \n",
       "2   2/1/2011        6515      154.06      90.93     1003700.90   592408.95   \n",
       "3  10/6/2012        7683      668.27     502.54     5134318.41  3861014.82   \n",
       "4  12/5/2015        3491       47.45      31.79      165647.95   110978.89   \n",
       "5  8/21/2012        9880       47.45      31.79      468806.00   314085.20   \n",
       "6  3/20/2011        4825      154.06      90.93      743339.50   438737.25   \n",
       "7  5/12/2017        3330      255.28     159.42      850082.40   530868.60   \n",
       "8  1/10/2015        2431      421.89     364.69     1025614.59   886561.39   \n",
       "9  7/20/2015        6197      651.21     524.96     4035548.37  3253177.12   \n",
       "\n",
       "   Total Profit  \n",
       "0     566105.00  \n",
       "1      16834.50  \n",
       "2     411291.95  \n",
       "3    1273303.59  \n",
       "4      54669.06  \n",
       "5     154720.80  \n",
       "6     304602.25  \n",
       "7     319213.80  \n",
       "8     139053.20  \n",
       "9     782371.25  "
      ]
     },
     "execution_count": 148,
     "metadata": {},
     "output_type": "execute_result"
    }
   ],
   "source": [
    "df = pd.read_csv('alba_1.csv')\n",
    "df.head(10)"
   ]
  },
  {
   "cell_type": "code",
   "execution_count": 149,
   "metadata": {},
   "outputs": [
    {
     "name": "stdout",
     "output_type": "stream",
     "text": [
      "<class 'pandas.core.frame.DataFrame'>\n",
      "RangeIndex: 10000 entries, 0 to 9999\n",
      "Data columns (total 14 columns):\n",
      " #   Column          Non-Null Count  Dtype  \n",
      "---  ------          --------------  -----  \n",
      " 0   Region          10000 non-null  object \n",
      " 1   Country         10000 non-null  object \n",
      " 2   Item Type       10000 non-null  object \n",
      " 3   Sales Channel   10000 non-null  object \n",
      " 4   Order Priority  10000 non-null  object \n",
      " 5   Order Date      10000 non-null  object \n",
      " 6   Order ID        10000 non-null  int64  \n",
      " 7   Ship Date       10000 non-null  object \n",
      " 8   Units Sold      10000 non-null  int64  \n",
      " 9   Unit Price      10000 non-null  float64\n",
      " 10  Unit Cost       10000 non-null  float64\n",
      " 11  Total Revenue   10000 non-null  float64\n",
      " 12  Total Cost      10000 non-null  float64\n",
      " 13  Total Profit    10000 non-null  float64\n",
      "dtypes: float64(5), int64(2), object(7)\n",
      "memory usage: 1.1+ MB\n",
      "None\n",
      "           Order ID    Units Sold    Unit Price     Unit Cost  Total Revenue  \\\n",
      "count  1.000000e+04  10000.000000  10000.000000  10000.000000   1.000000e+04   \n",
      "mean   5.498719e+08   5002.855900    268.143139    188.806639   1.333355e+06   \n",
      "std    2.607835e+08   2873.246454    217.944092    176.445907   1.465026e+06   \n",
      "min    1.000892e+08      2.000000      9.330000      6.920000   1.679400e+02   \n",
      "25%    3.218067e+08   2530.750000    109.280000     56.670000   2.885511e+05   \n",
      "50%    5.485663e+08   4962.000000    205.700000    117.110000   8.000512e+05   \n",
      "75%    7.759981e+08   7472.000000    437.200000    364.690000   1.819143e+06   \n",
      "max    9.999342e+08  10000.000000    668.270000    524.960000   6.680027e+06   \n",
      "\n",
      "         Total Cost  Total Profit  \n",
      "count  1.000000e+04  1.000000e+04  \n",
      "mean   9.382658e+05  3.950893e+05  \n",
      "std    1.145914e+06  3.775550e+05  \n",
      "min    1.245600e+02  4.338000e+01  \n",
      "25%    1.647855e+05  9.832914e+04  \n",
      "50%    4.816058e+05  2.890990e+05  \n",
      "75%    1.183822e+06  5.664227e+05  \n",
      "max    5.241726e+06  1.738178e+06  \n",
      "Region            0\n",
      "Country           0\n",
      "Item Type         0\n",
      "Sales Channel     0\n",
      "Order Priority    0\n",
      "Order Date        0\n",
      "Order ID          0\n",
      "Ship Date         0\n",
      "Units Sold        0\n",
      "Unit Price        0\n",
      "Unit Cost         0\n",
      "Total Revenue     0\n",
      "Total Cost        0\n",
      "Total Profit      0\n",
      "dtype: int64\n"
     ]
    }
   ],
   "source": [
    "print(df.info())\n",
    "print(df.describe())\n",
    "\n",
    "print(df.isnull().sum())\n",
    "\n",
    "df['Order Date'] = pd.to_datetime(df['Order Date'])\n",
    "df['Ship Date'] = pd.to_datetime(df['Ship Date'])\n",
    "\n",
    "df['Processing Time'] = (df['Ship Date'] - df['Order Date']).dt.days\n",
    "df['Profit Margin'] = df['Total Profit'] / df['Total Revenue']\n"
   ]
  },
  {
   "cell_type": "code",
   "execution_count": 150,
   "metadata": {},
   "outputs": [
    {
     "name": "stdout",
     "output_type": "stream",
     "text": [
      "Region\n",
      "Europe                               2633\n",
      "Sub-Saharan Africa                   2603\n",
      "Asia                                 1469\n",
      "Middle East and North Africa         1264\n",
      "Central America and the Caribbean    1019\n",
      "Australia and Oceania                 797\n",
      "North America                         215\n",
      "Name: count, dtype: int64\n",
      "Item Type\n",
      "Personal Care      888\n",
      "Household          875\n",
      "Clothes            872\n",
      "Baby Food          842\n",
      "Office Supplies    837\n",
      "Vegetables         836\n",
      "Cosmetics          834\n",
      "Cereal             825\n",
      "Snacks             816\n",
      "Meat               798\n",
      "Fruits             795\n",
      "Beverages          782\n",
      "Name: count, dtype: int64\n"
     ]
    }
   ],
   "source": [
    "\n",
    "print(df['Region'].value_counts())\n",
    "\n",
    "print(df['Item Type'].value_counts())"
   ]
  },
  {
   "cell_type": "code",
   "execution_count": 151,
   "metadata": {},
   "outputs": [
    {
     "name": "stdout",
     "output_type": "stream",
     "text": [
      "Requirement already satisfied: scikit-learn in /Users/maksim/PycharmProjects/pythonProject4/.venv/lib/python3.12/site-packages (1.6.1)\n",
      "Requirement already satisfied: numpy>=1.19.5 in /Users/maksim/PycharmProjects/pythonProject4/.venv/lib/python3.12/site-packages (from scikit-learn) (2.1.2)\n",
      "Requirement already satisfied: scipy>=1.6.0 in /Users/maksim/PycharmProjects/pythonProject4/.venv/lib/python3.12/site-packages (from scikit-learn) (1.15.2)\n",
      "Requirement already satisfied: joblib>=1.2.0 in /Users/maksim/PycharmProjects/pythonProject4/.venv/lib/python3.12/site-packages (from scikit-learn) (1.4.2)\n",
      "Requirement already satisfied: threadpoolctl>=3.1.0 in /Users/maksim/PycharmProjects/pythonProject4/.venv/lib/python3.12/site-packages (from scikit-learn) (3.6.0)\n"
     ]
    }
   ],
   "source": [
    "!pip install scikit-learn\n",
    "\n"
   ]
  },
  {
   "cell_type": "code",
   "execution_count": 152,
   "metadata": {},
   "outputs": [
    {
     "name": "stdout",
     "output_type": "stream",
     "text": [
      "                              Region  Total Profit\n",
      "0                               Asia  5.874033e+08\n",
      "1              Australia and Oceania  3.240712e+08\n",
      "2  Central America and the Caribbean  4.033578e+08\n",
      "3                             Europe  1.027000e+09\n",
      "4       Middle East and North Africa  5.099239e+08\n",
      "5                      North America  9.949552e+07\n",
      "6                 Sub-Saharan Africa  9.996421e+08\n"
     ]
    }
   ],
   "source": [
    "grouped = df.groupby('Region', as_index=False)['Total Profit'].sum()\n",
    "print(grouped)"
   ]
  },
  {
   "cell_type": "code",
   "execution_count": 153,
   "metadata": {},
   "outputs": [
    {
     "data": {
      "image/png": "[encoded data removed]",
      "text/plain": [
       "<Figure size 1000x600 with 1 Axes>"
      ]
     },
     "metadata": {},
     "output_type": "display_data"
    }
   ],
   "source": [
    "plt.figure(figsize=(10, 6))\n",
    "sns.histplot(df['Processing Time'], bins=30, kde=True)\n",
    "plt.title('Распределение времени обработки заказов')\n",
    "plt.xlabel('Дни')\n",
    "plt.ylabel('Количество заказов')\n",
    "plt.show()"
   ]
  },
  {
   "cell_type": "code",
   "execution_count": 154,
   "metadata": {},
   "outputs": [],
   "source": [
    "top_5_margin = df.groupby('Item Type')['Profit Margin'].mean().sort_values(ascending=False).head(5)\n",
    "\n",
    "fig = px.bar(top_5_margin, x=top_5_margin.index, y=top_5_margin.values,\n",
    "             labels={'x': 'Item Type', 'y': 'Average Profit Margin'},\n",
    "             title='Top 5 Most Profitable Product Categories')\n",
    "\n",
    "fig.write_html('top_5_profit_margin.html')\n"
   ]
  },
  {
   "cell_type": "code",
   "execution_count": 162,
   "metadata": {},
   "outputs": [],
   "source": [
    "fig = px.histogram(df, x='Processing Time', nbins=30, marginal='violin', \n",
    "                   title='Распределение времени обработки заказов', \n",
    "                 )\n",
    "\n",
    "fig.update_layout(bargap=0.1)\n",
    "\n",
    "fig.write_html('pope.html')\n"
   ]
  },
  {
   "cell_type": "code",
   "execution_count": 158,
   "metadata": {},
   "outputs": [],
   "source": [
    "import plotly.express as px\n",
    "import plotly.graph_objects as go\n",
    "from plotly.subplots import make_subplots\n",
    "\n",
    "# 1. Распределение времени обработки заказов\n",
    "fig1 = px.histogram(df, x='Processing Time', nbins=30, \n",
    "                   title='Распределение времени обработки заказов',\n",
    "                   labels={'Processing Time': 'Дни обработки'},\n",
    "                   color_discrete_sequence=['#636EFA'])\n",
    "fig1.update_layout(bargap=0.1)\n",
    "fig1.write_html('1.html')\n",
    "\n",
    "# 2. Анализ прибыли по регионам\n",
    "fig2 = px.box(df, x='Region', y='Total Profit', \n",
    "             title='Распределение прибыли по регионам',\n",
    "             color='Region')\n",
    "fig2.update_layout(xaxis_title='Регион', yaxis_title='Прибыль')\n",
    "fig2.write_html('2.html')\n",
    "\n",
    "\n",
    "\n"
   ]
  },
  {
   "cell_type": "code",
   "execution_count": 157,
   "metadata": {},
   "outputs": [
    {
     "ename": "ValueError",
     "evalue": "Mime type rendering requires nbformat>=4.2.0 but it is not installed",
     "output_type": "error",
     "traceback": [
      "\u001b[0;31m---------------------------------------------------------------------------\u001b[0m",
      "\u001b[0;31mValueError\u001b[0m                                Traceback (most recent call last)",
      "Cell \u001b[0;32mIn[157], line 15\u001b[0m\n\u001b[1;32m     13\u001b[0m fig6\u001b[38;5;241m.\u001b[39mupdate_layout(title\u001b[38;5;241m=\u001b[39m\u001b[38;5;124m'\u001b[39m\u001b[38;5;124mМатрица корреляций числовых показателей\u001b[39m\u001b[38;5;124m'\u001b[39m)\n\u001b[1;32m     14\u001b[0m \u001b[38;5;66;03m# fig6.write_html('6.html')\u001b[39;00m\n\u001b[0;32m---> 15\u001b[0m \u001b[43mfig6\u001b[49m\u001b[38;5;241;43m.\u001b[39;49m\u001b[43mshow\u001b[49m\u001b[43m(\u001b[49m\u001b[43m)\u001b[49m\n",
      "File \u001b[0;32m~/PycharmProjects/pythonProject4/.venv/lib/python3.12/site-packages/plotly/basedatatypes.py:3414\u001b[0m, in \u001b[0;36mBaseFigure.show\u001b[0;34m(self, *args, **kwargs)\u001b[0m\n\u001b[1;32m   3381\u001b[0m \u001b[38;5;250m\u001b[39m\u001b[38;5;124;03m\"\"\"\u001b[39;00m\n\u001b[1;32m   3382\u001b[0m \u001b[38;5;124;03mShow a figure using either the default renderer(s) or the renderer(s)\u001b[39;00m\n\u001b[1;32m   3383\u001b[0m \u001b[38;5;124;03mspecified by the renderer argument\u001b[39;00m\n\u001b[0;32m   (...)\u001b[0m\n\u001b[1;32m   3410\u001b[0m \u001b[38;5;124;03mNone\u001b[39;00m\n\u001b[1;32m   3411\u001b[0m \u001b[38;5;124;03m\"\"\"\u001b[39;00m\n\u001b[1;32m   3412\u001b[0m \u001b[38;5;28;01mimport\u001b[39;00m \u001b[38;5;21;01mplotly\u001b[39;00m\u001b[38;5;21;01m.\u001b[39;00m\u001b[38;5;21;01mio\u001b[39;00m \u001b[38;5;28;01mas\u001b[39;00m \u001b[38;5;21;01mpio\u001b[39;00m\n\u001b[0;32m-> 3414\u001b[0m \u001b[38;5;28;01mreturn\u001b[39;00m \u001b[43mpio\u001b[49m\u001b[38;5;241;43m.\u001b[39;49m\u001b[43mshow\u001b[49m\u001b[43m(\u001b[49m\u001b[38;5;28;43mself\u001b[39;49m\u001b[43m,\u001b[49m\u001b[43m \u001b[49m\u001b[38;5;241;43m*\u001b[39;49m\u001b[43margs\u001b[49m\u001b[43m,\u001b[49m\u001b[43m \u001b[49m\u001b[38;5;241;43m*\u001b[39;49m\u001b[38;5;241;43m*\u001b[39;49m\u001b[43mkwargs\u001b[49m\u001b[43m)\u001b[49m\n",
      "File \u001b[0;32m~/PycharmProjects/pythonProject4/.venv/lib/python3.12/site-packages/plotly/io/_renderers.py:425\u001b[0m, in \u001b[0;36mshow\u001b[0;34m(fig, renderer, validate, **kwargs)\u001b[0m\n\u001b[1;32m    420\u001b[0m     \u001b[38;5;28;01mraise\u001b[39;00m \u001b[38;5;167;01mValueError\u001b[39;00m(\n\u001b[1;32m    421\u001b[0m         \u001b[38;5;124m\"\u001b[39m\u001b[38;5;124mMime type rendering requires ipython but it is not installed\u001b[39m\u001b[38;5;124m\"\u001b[39m\n\u001b[1;32m    422\u001b[0m     )\n\u001b[1;32m    424\u001b[0m \u001b[38;5;28;01mif\u001b[39;00m \u001b[38;5;129;01mnot\u001b[39;00m nbformat \u001b[38;5;129;01mor\u001b[39;00m Version(nbformat\u001b[38;5;241m.\u001b[39m__version__) \u001b[38;5;241m<\u001b[39m Version(\u001b[38;5;124m\"\u001b[39m\u001b[38;5;124m4.2.0\u001b[39m\u001b[38;5;124m\"\u001b[39m):\n\u001b[0;32m--> 425\u001b[0m     \u001b[38;5;28;01mraise\u001b[39;00m \u001b[38;5;167;01mValueError\u001b[39;00m(\n\u001b[1;32m    426\u001b[0m         \u001b[38;5;124m\"\u001b[39m\u001b[38;5;124mMime type rendering requires nbformat>=4.2.0 but it is not installed\u001b[39m\u001b[38;5;124m\"\u001b[39m\n\u001b[1;32m    427\u001b[0m     )\n\u001b[1;32m    429\u001b[0m display_jupyter_version_warnings()\n\u001b[1;32m    431\u001b[0m ipython_display\u001b[38;5;241m.\u001b[39mdisplay(bundle, raw\u001b[38;5;241m=\u001b[39m\u001b[38;5;28;01mTrue\u001b[39;00m)\n",
      "\u001b[0;31mValueError\u001b[0m: Mime type rendering requires nbformat>=4.2.0 but it is not installed"
     ]
    }
   ],
   "source": [
    "# Расчет матрицы корреляций\n",
    "corr_matrix = df.select_dtypes(include=[np.number]).corr()\n",
    "\n",
    "fig6 = go.Figure(data=go.Heatmap(\n",
    "    z=corr_matrix.values,  # Значения корреляций\n",
    "    x=corr_matrix.columns,  # Названия столбцов по X\n",
    "    y=corr_matrix.columns,  # Названия строк по Y\n",
    "    colorscale='RdBu',  # Красно-синяя шкала\n",
    "    zmin=-1,  # Минимальное значение\n",
    "    zmax=1,  # Максимальное значение\n",
    "    hoverongaps=False  # Показывать подсказки\n",
    "))\n",
    "fig6.update_layout(title='Матрица корреляций числовых показателей')\n",
    "# fig6.write_html('6.html')\n",
    "fig6.show()"
   ]
  },
  {
   "cell_type": "code",
   "execution_count": null,
   "metadata": {},
   "outputs": [
    {
     "name": "stdout",
     "output_type": "stream",
     "text": [
      "T-статистика: -0.5821, p-значение: 0.5606\n"
     ]
    }
   ],
   "source": [
    "\n",
    "# Сравним Sub-Saharan Africa и Europe\n",
    "africa_profit = df[df['Region'] == 'Sub-Saharan Africa']['Total Profit']\n",
    "europe_profit = df[df['Region'] == 'Europe']['Total Profit']\n",
    "\n",
    "t_stat, p_val = ttest_ind(africa_profit, europe_profit)\n",
    "print(f\"T-статистика: {t_stat:.4f}, p-значение: {p_val:.4f}\")"
   ]
  },
  {
   "cell_type": "code",
   "execution_count": null,
   "metadata": {},
   "outputs": [
    {
     "name": "stdout",
     "output_type": "stream",
     "text": [
      "Коэффициент X:  0.2629749698274155\n",
      "Свободный член (intercept): 148348.9308926527\n",
      "R²: 0.6370\n",
      "MAE: 174915.82\n",
      "MSE: 51732730242.11\n"
     ]
    },
    {
     "data": {
      "image/png": "[encoded data removed]",
      "text/plain": [
       "<Figure size 1000x500 with 1 Axes>"
      ]
     },
     "metadata": {},
     "output_type": "display_data"
    }
   ],
   "source": [
    "\n",
    "\n",
    "# Подготовка данных\n",
    "X = df[['Total Cost']]  # Используем общие затраты как предиктор\n",
    "y = df['Total Profit']  # Прогнозируем общую прибыль\n",
    "\n",
    "# Создание и обучение модели\n",
    "model = LinearRegression()\n",
    "model.fit(X, y)\n",
    "y_pred = model.predict(X)\n",
    "\n",
    "# Оценка модели\n",
    "print('Коэффициент X: ', model.coef_[0])\n",
    "print('Свободный член (intercept):', model.intercept_)\n",
    "print(f'R²: {r2_score(y, y_pred):.4f}')\n",
    "print(f'MAE: {mean_absolute_error(y, y_pred):.2f}')\n",
    "print(f'MSE: {mean_squared_error(y, y_pred):.2f}')\n",
    "\n",
    "# Визуализация\n",
    "plt.figure(figsize=(10, 5))\n",
    "plt.scatter(X, y, color='blue', alpha=0.5)\n",
    "plt.plot(X, y_pred, color='red')\n",
    "plt.xlabel('Total Cost')\n",
    "plt.ylabel('Total Profit')\n",
    "plt.title('Линейная регрессия: Затраты vs Прибыль')\n",
    "plt.grid()\n",
    "plt.show()\n",
    "\n",
    "# Интерактивная визуализация с Plotly\n",
    "fig34 = px.scatter(df, x='Total Cost', y='Total Profit', \n",
    "                 trendline=\"ols\", \n",
    "                 title='Зависимость прибыли от затрат',\n",
    "                 labels={'Total Cost': 'Общие затраты', 'Total Profit': 'Общая прибыль'})\n",
    "fig34.write_html('krasivo_delaesh_durak.html')"
   ]
  },
  {
   "cell_type": "code",
   "execution_count": null,
   "metadata": {},
   "outputs": [
    {
     "ename": "TypeError",
     "evalue": "box() got an unexpected keyword argument 'x'",
     "output_type": "error",
     "traceback": [
      "\u001b[0;31m---------------------------------------------------------------------------\u001b[0m",
      "\u001b[0;31mTypeError\u001b[0m                                 Traceback (most recent call last)",
      "Cell \u001b[0;32mIn[130], line 1\u001b[0m\n\u001b[0;32m----> 1\u001b[0m fig \u001b[38;5;241m=\u001b[39m \u001b[43mplt\u001b[49m\u001b[38;5;241;43m.\u001b[39;49m\u001b[43mbox\u001b[49m\u001b[43m(\u001b[49m\u001b[43mdf\u001b[49m\u001b[43m,\u001b[49m\u001b[43m \u001b[49m\u001b[43mx\u001b[49m\u001b[38;5;241;43m=\u001b[39;49m\u001b[38;5;124;43m'\u001b[39;49m\u001b[38;5;124;43mRegion\u001b[39;49m\u001b[38;5;124;43m'\u001b[39;49m\u001b[43m,\u001b[49m\u001b[43m \u001b[49m\u001b[43my\u001b[49m\u001b[38;5;241;43m=\u001b[39;49m\u001b[38;5;124;43m'\u001b[39;49m\u001b[38;5;124;43mTotal Profit\u001b[39;49m\u001b[38;5;124;43m'\u001b[39;49m\u001b[43m,\u001b[49m\u001b[43m \u001b[49m\n\u001b[1;32m      2\u001b[0m \u001b[43m             \u001b[49m\u001b[43mtitle\u001b[49m\u001b[38;5;241;43m=\u001b[39;49m\u001b[38;5;124;43m'\u001b[39;49m\u001b[38;5;124;43mРаспределение прибыли по регионам\u001b[39;49m\u001b[38;5;124;43m'\u001b[39;49m\u001b[43m)\u001b[49m\n\u001b[1;32m      3\u001b[0m fig\u001b[38;5;241m.\u001b[39mshow()\n",
      "\u001b[0;31mTypeError\u001b[0m: box() got an unexpected keyword argument 'x'"
     ]
    }
   ],
   "source": [
    "fig = plt.box(df, x='Region', y='Total Profit', \n",
    "             title='Распределение прибыли по регионам')\n",
    "fig.show()"
   ]
  },
  {
   "cell_type": "code",
   "execution_count": null,
   "metadata": {},
   "outputs": [
    {
     "ename": "PlotlyError",
     "evalue": "Dataframe not inputed. Please use a pandas dataframe to produce a scatterplot matrix.",
     "output_type": "error",
     "traceback": [
      "\u001b[0;31m---------------------------------------------------------------------------\u001b[0m",
      "\u001b[0;31mPlotlyError\u001b[0m                               Traceback (most recent call last)",
      "Cell \u001b[0;32mIn[133], line 9\u001b[0m\n\u001b[1;32m      6\u001b[0m qq \u001b[38;5;241m=\u001b[39m stats\u001b[38;5;241m.\u001b[39mprobplot(data, dist\u001b[38;5;241m=\u001b[39m\u001b[38;5;124m\"\u001b[39m\u001b[38;5;124mnorm\u001b[39m\u001b[38;5;124m\"\u001b[39m)\n\u001b[1;32m      8\u001b[0m \u001b[38;5;66;03m# Построение графика Q-Q в Plotly\u001b[39;00m\n\u001b[0;32m----> 9\u001b[0m fig_qq \u001b[38;5;241m=\u001b[39m \u001b[43mff\u001b[49m\u001b[38;5;241;43m.\u001b[39;49m\u001b[43mcreate_scatterplotmatrix\u001b[49m\u001b[43m(\u001b[49m\u001b[43m[\u001b[49m\u001b[43mqq\u001b[49m\u001b[43m[\u001b[49m\u001b[38;5;241;43m0\u001b[39;49m\u001b[43m]\u001b[49m\u001b[43m[\u001b[49m\u001b[38;5;241;43m0\u001b[39;49m\u001b[43m]\u001b[49m\u001b[43m,\u001b[49m\u001b[43m \u001b[49m\u001b[43mqq\u001b[49m\u001b[43m[\u001b[49m\u001b[38;5;241;43m0\u001b[39;49m\u001b[43m]\u001b[49m\u001b[43m[\u001b[49m\u001b[38;5;241;43m1\u001b[39;49m\u001b[43m]\u001b[49m\u001b[43m]\u001b[49m\u001b[43m,\u001b[49m\u001b[43m \u001b[49m\u001b[43mdiag\u001b[49m\u001b[38;5;241;43m=\u001b[39;49m\u001b[38;5;124;43m'\u001b[39;49m\u001b[38;5;124;43mhistogram\u001b[39;49m\u001b[38;5;124;43m'\u001b[39;49m\u001b[43m,\u001b[49m\u001b[43m \u001b[49m\u001b[43mcolormap\u001b[49m\u001b[38;5;241;43m=\u001b[39;49m\u001b[43m[\u001b[49m\u001b[38;5;124;43m'\u001b[39;49m\u001b[38;5;124;43m#636EFA\u001b[39;49m\u001b[38;5;124;43m'\u001b[39;49m\u001b[43m]\u001b[49m\u001b[43m,\u001b[49m\u001b[43m \u001b[49m\n\u001b[1;32m     10\u001b[0m \u001b[43m                                     \u001b[49m\u001b[43mtitle\u001b[49m\u001b[38;5;241;43m=\u001b[39;49m\u001b[38;5;124;43m\"\u001b[39;49m\u001b[38;5;124;43mQ-Q Plot: Проверка нормальности прибыли\u001b[39;49m\u001b[38;5;124;43m\"\u001b[39;49m\u001b[43m)\u001b[49m\n\u001b[1;32m     11\u001b[0m fig_qq\u001b[38;5;241m.\u001b[39mwrite_html(\u001b[38;5;124m\"\u001b[39m\u001b[38;5;124mqq_plot.html\u001b[39m\u001b[38;5;124m\"\u001b[39m)\n",
      "File \u001b[0;32m~/PycharmProjects/pythonProject4/.venv/lib/python3.12/site-packages/plotly/figure_factory/_scatterplot.py:1039\u001b[0m, in \u001b[0;36mcreate_scatterplotmatrix\u001b[0;34m(df, index, endpts, diag, height, width, size, title, colormap, colormap_type, dataframe, headers, index_vals, **kwargs)\u001b[0m\n\u001b[1;32m   1036\u001b[0m \u001b[38;5;28;01mif\u001b[39;00m index_vals \u001b[38;5;129;01mis\u001b[39;00m \u001b[38;5;28;01mNone\u001b[39;00m:\n\u001b[1;32m   1037\u001b[0m     index_vals \u001b[38;5;241m=\u001b[39m []\n\u001b[0;32m-> 1039\u001b[0m \u001b[43mvalidate_scatterplotmatrix\u001b[49m\u001b[43m(\u001b[49m\u001b[43mdf\u001b[49m\u001b[43m,\u001b[49m\u001b[43m \u001b[49m\u001b[43mindex\u001b[49m\u001b[43m,\u001b[49m\u001b[43m \u001b[49m\u001b[43mdiag\u001b[49m\u001b[43m,\u001b[49m\u001b[43m \u001b[49m\u001b[43mcolormap_type\u001b[49m\u001b[43m,\u001b[49m\u001b[43m \u001b[49m\u001b[38;5;241;43m*\u001b[39;49m\u001b[38;5;241;43m*\u001b[39;49m\u001b[43mkwargs\u001b[49m\u001b[43m)\u001b[49m\n\u001b[1;32m   1041\u001b[0m \u001b[38;5;66;03m# Validate colormap\u001b[39;00m\n\u001b[1;32m   1042\u001b[0m \u001b[38;5;28;01mif\u001b[39;00m \u001b[38;5;28misinstance\u001b[39m(colormap, \u001b[38;5;28mdict\u001b[39m):\n",
      "File \u001b[0;32m~/PycharmProjects/pythonProject4/.venv/lib/python3.12/site-packages/plotly/figure_factory/_scatterplot.py:100\u001b[0m, in \u001b[0;36mvalidate_scatterplotmatrix\u001b[0;34m(df, index, diag, colormap_type, **kwargs)\u001b[0m\n\u001b[1;32m     98\u001b[0m \u001b[38;5;66;03m# Check if pandas dataframe\u001b[39;00m\n\u001b[1;32m     99\u001b[0m \u001b[38;5;28;01mif\u001b[39;00m \u001b[38;5;129;01mnot\u001b[39;00m \u001b[38;5;28misinstance\u001b[39m(df, pd\u001b[38;5;241m.\u001b[39mcore\u001b[38;5;241m.\u001b[39mframe\u001b[38;5;241m.\u001b[39mDataFrame):\n\u001b[0;32m--> 100\u001b[0m     \u001b[38;5;28;01mraise\u001b[39;00m exceptions\u001b[38;5;241m.\u001b[39mPlotlyError(\n\u001b[1;32m    101\u001b[0m         \u001b[38;5;124m\"\u001b[39m\u001b[38;5;124mDataframe not inputed. Please \u001b[39m\u001b[38;5;124m\"\u001b[39m\n\u001b[1;32m    102\u001b[0m         \u001b[38;5;124m\"\u001b[39m\u001b[38;5;124muse a pandas dataframe to pro\u001b[39m\u001b[38;5;124m\"\u001b[39m\n\u001b[1;32m    103\u001b[0m         \u001b[38;5;124m\"\u001b[39m\u001b[38;5;124mduce a scatterplot matrix.\u001b[39m\u001b[38;5;124m\"\u001b[39m\n\u001b[1;32m    104\u001b[0m     )\n\u001b[1;32m    106\u001b[0m \u001b[38;5;66;03m# Check if dataframe is 1 column or less\u001b[39;00m\n\u001b[1;32m    107\u001b[0m \u001b[38;5;28;01mif\u001b[39;00m \u001b[38;5;28mlen\u001b[39m(df\u001b[38;5;241m.\u001b[39mcolumns) \u001b[38;5;241m<\u001b[39m\u001b[38;5;241m=\u001b[39m \u001b[38;5;241m1\u001b[39m:\n",
      "\u001b[0;31mPlotlyError\u001b[0m: Dataframe not inputed. Please use a pandas dataframe to produce a scatterplot matrix."
     ]
    }
   ],
   "source": [
    "import plotly.figure_factory as ff\n",
    "# Выбираем числовую переменную для теста (например, прибыль)\n",
    "data = df[\"Total Profit\"]\n",
    "\n",
    "# Расчет квантилей для нормального распределения\n",
    "qq = stats.probplot(data, dist=\"norm\")\n",
    "\n",
    "# Построение графика Q-Q в Plotly\n",
    "fig_qq = ff.create_scatterplotmatrix([qq[0][0], qq[0][1]], diag='histogram', colormap=['#636EFA'], \n",
    "                                     title=\"Q-Q Plot: Проверка нормальности прибыли\")\n",
    "fig_qq.write_html(\"qq_plot.html\")"
   ]
  }
 ],
 "metadata": {
  "kernelspec": {
   "display_name": ".venv",
   "language": "python",
   "name": "python3"
  },
  "language_info": {
   "codemirror_mode": {
    "name": "ipython",
    "version": 3
   },
   "file_extension": ".py",
   "mimetype": "text/x-python",
   "name": "python",
   "nbconvert_exporter": "python",
   "pygments_lexer": "ipython3",
   "version": "3.12.5"
  }
 },
 "nbformat": 4,
 "nbformat_minor": 2
}
